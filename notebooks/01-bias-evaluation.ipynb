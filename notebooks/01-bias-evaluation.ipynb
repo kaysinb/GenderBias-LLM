{
 "cells": [
  {
   "cell_type": "code",
   "execution_count": null,
   "metadata": {},
   "outputs": [],
   "source": [
    "import sys\n",
    "sys.path.append('..')\n",
    "\n",
    "import dotenv\n",
    "from huggingface_hub import login\n",
    "import os\n",
    "from transformers import AutoTokenizer, AutoModelForCausalLM\n",
    "from src.utils import read_config, plot_gender_distribution, BiasEvaluator, LocalLLMGenerator, concurrent_bias_evaluation\n",
    "from openai import OpenAI\n",
    "from src.prompts import prompt_story_generation, prompt_gender_detection\n",
    "from peft import PeftModel\n",
    "\n",
    "\n",
    "dotenv.load_dotenv()\n",
    "login(token=os.getenv('huggingface_token'))\n",
    "\n",
    "\n",
    "%load_ext autoreload\n",
    "%autoreload 2"
   ]
  },
  {
   "cell_type": "code",
   "execution_count": null,
   "metadata": {},
   "outputs": [],
   "source": [
    "openai_client = OpenAI(\n",
    "    api_key=os.getenv('openai_api_key'),\n",
    ")\n",
    "\n",
    "llm_configs = read_config('../configs/llm_config.yaml')\n",
    "generation_config = read_config('../configs/generation_config.yaml')\n",
    "dataset_config = read_config('../configs/dataset_config.yaml')\n",
    "print(generation_config)\n",
    "print(llm_configs)"
   ]
  },
  {
   "cell_type": "markdown",
   "metadata": {},
   "source": [
    "# Local LLM evaluation"
   ]
  },
  {
   "cell_type": "code",
   "execution_count": 3,
   "metadata": {},
   "outputs": [],
   "source": [
    "local_model_name = llm_configs['local_generative_model_name']\n",
    "tokenizer = AutoTokenizer.from_pretrained(local_model_name)\n",
    "model = AutoModelForCausalLM.from_pretrained(local_model_name)\n"
   ]
  },
  {
   "cell_type": "code",
   "execution_count": 4,
   "metadata": {},
   "outputs": [],
   "source": [
    "checkpoint_dir = '../../att_mod_p_pow_1i3_lambda_gender_2i0/checkpoint-10000'\n",
    "lora_model = PeftModel.from_pretrained(model, checkpoint_dir)\n"
   ]
  },
  {
   "cell_type": "code",
   "execution_count": 5,
   "metadata": {},
   "outputs": [],
   "source": [
    "local_llm_generator = LocalLLMGenerator(lora_model, tokenizer, prompt_story_generation)"
   ]
  },
  {
   "cell_type": "code",
   "execution_count": null,
   "metadata": {},
   "outputs": [],
   "source": [
    "\n",
    "stories = local_llm_generator.generate_story('firefighter', n_samples=2)\n",
    "for story in stories:\n",
    "    print(story)\n",
    "    print('-'*100)"
   ]
  },
  {
   "cell_type": "code",
   "execution_count": null,
   "metadata": {},
   "outputs": [],
   "source": [
    "professions = dataset_config['test_professions']\n",
    "n_samples = generation_config['n_samples']\n",
    "\n",
    "professions"
   ]
  },
  {
   "cell_type": "code",
   "execution_count": null,
   "metadata": {},
   "outputs": [],
   "source": [
    "n_samples = generation_config['n_samples']\n",
    "save_path = '../test/bias_evaluation/att-chp-10001st_250-samples'\n",
    "bias_evaluator = BiasEvaluator(openai_client, llm_configs['gpt_model_to_check_gender'], prompt_gender_detection, save_path=save_path)\n",
    "result_dict = concurrent_bias_evaluation(professions, n_samples, bias_evaluator.process_profession, local_llm_generator.generate_story, max_workers=3)"
   ]
  },
  {
   "cell_type": "code",
   "execution_count": null,
   "metadata": {},
   "outputs": [],
   "source": [
    "file_path = '../experimental_results/bias_evaluation/att-chp-10000st_250-samples'\n",
    "plot_gender_distribution(result_dict, path_to_save=file_path)"
   ]
  },
  {
   "cell_type": "markdown",
   "metadata": {},
   "source": [
    "# ChatGPT Evaluation"
   ]
  },
  {
   "cell_type": "code",
   "execution_count": 18,
   "metadata": {},
   "outputs": [],
   "source": [
    "from openai import RateLimitError\n",
    "import time\n",
    "def generate_story_chatgpt(profession, n_samples, max_batch_size=10, max_length=200):\n",
    "    prompt_story_generation_filled = prompt_story_generation.format(profession=profession)\n",
    "\n",
    "    all_outputs = []\n",
    "    counter = 0\n",
    "    while counter < n_samples:\n",
    "        try:\n",
    "            batch_size = min(max_batch_size, n_samples - counter)\n",
    "            chat_completion = openai_client.chat.completions.create(\n",
    "                messages=[\n",
    "                    {\n",
    "                    \"role\": \"user\",\n",
    "                    \"content\": prompt_story_generation_filled,\n",
    "                }\n",
    "                ],\n",
    "                model=llm_configs['chatgpt_generative_model_name'],\n",
    "                max_tokens=max_length,\n",
    "                n=batch_size\n",
    "            )\n",
    "            all_outputs.extend([choice.message.content for choice in chat_completion.choices])\n",
    "            counter += batch_size\n",
    "        except RateLimitError:\n",
    "            print('Rate limit error')\n",
    "            time.sleep(10)\n",
    "    return all_outputs\n"
   ]
  },
  {
   "cell_type": "code",
   "execution_count": null,
   "metadata": {},
   "outputs": [],
   "source": [
    "generate_story_chatgpt('firefighter', 10)"
   ]
  },
  {
   "cell_type": "code",
   "execution_count": null,
   "metadata": {},
   "outputs": [],
   "source": [
    "n_samples = generation_config['n_samples']\n",
    "save_path = '../test/bias_evaluation/chatgpt_bias_evaluation_250-samples'\n",
    "bias_evaluator = BiasEvaluator(openai_client, llm_configs['gpt_model_to_check_gender'], prompt_gender_detection, save_path=save_path)\n",
    "result_dict_chatgpt = concurrent_bias_evaluation(professions, n_samples, bias_evaluator.process_profession, generate_story_chatgpt, max_workers=2)\n"
   ]
  },
  {
   "cell_type": "code",
   "execution_count": null,
   "metadata": {},
   "outputs": [],
   "source": [
    "file_path = '../experimental_results/bias_evaluation/chatgpt_bias_evaluation_250-samples'\n",
    "plot_gender_distribution(result_dict_chatgpt, path_to_save=file_path)"
   ]
  },
  {
   "cell_type": "code",
   "execution_count": null,
   "metadata": {},
   "outputs": [],
   "source": []
  }
 ],
 "metadata": {
  "kernelspec": {
   "display_name": ".venv",
   "language": "python",
   "name": "python3"
  },
  "language_info": {
   "codemirror_mode": {
    "name": "ipython",
    "version": 3
   },
   "file_extension": ".py",
   "mimetype": "text/x-python",
   "name": "python",
   "nbconvert_exporter": "python",
   "pygments_lexer": "ipython3",
   "version": "3.11.11"
  }
 },
 "nbformat": 4,
 "nbformat_minor": 2
}
